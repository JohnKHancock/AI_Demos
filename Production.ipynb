{
 "cells": [
  {
   "cell_type": "code",
   "execution_count": null,
   "metadata": {},
   "outputs": [],
   "source": [
    "!pip install voila\n",
    "!jupyter serverextension enable --sys-prefix voila\n",
    "clear_output()"
   ]
  },
  {
   "cell_type": "code",
   "execution_count": 2,
   "metadata": {},
   "outputs": [],
   "source": [
    "from IPython.display import clear_output"
   ]
  },
  {
   "cell_type": "code",
   "execution_count": 3,
   "metadata": {},
   "outputs": [],
   "source": [
    "!pip install fastai\n",
    "clear_output()"
   ]
  },
  {
   "cell_type": "code",
   "execution_count": 4,
   "metadata": {
    "executionInfo": {
     "elapsed": 11722,
     "status": "ok",
     "timestamp": 1698183873039,
     "user": {
      "displayName": "jk hancock",
      "userId": "01763343052046863664"
     },
     "user_tz": 240
    },
    "id": "Y7tsowTxVEX8"
   },
   "outputs": [],
   "source": [
    "from fastcore.all import *\n",
    "from fastai.data.all import *\n",
    "from fastdownload import download_url\n",
    "from fastai.vision.all import *"
   ]
  },
  {
   "cell_type": "code",
   "execution_count": 6,
   "metadata": {
    "executionInfo": {
     "elapsed": 22402,
     "status": "ok",
     "timestamp": 1698183916069,
     "user": {
      "displayName": "jk hancock",
      "userId": "01763343052046863664"
     },
     "user_tz": 240
    },
    "id": "TymqcbAOVjVP"
   },
   "outputs": [],
   "source": [
    "try:\n",
    "  from fastbook import *\n",
    "  from fastai.vision.widgets import *\n",
    "  fastbook.setup_book()\n",
    "except:\n",
    "  !pip install -Uqq fastbook\n",
    "  from fastbook import *\n",
    "  from fastai.vision.widgets import *\n",
    "\n",
    "  clear_output()"
   ]
  },
  {
   "cell_type": "code",
   "execution_count": 5,
   "metadata": {
    "executionInfo": {
     "elapsed": 2,
     "status": "ok",
     "timestamp": 1698183918218,
     "user": {
      "displayName": "jk hancock",
      "userId": "01763343052046863664"
     },
     "user_tz": 240
    },
    "id": "KueJfngdhNOP"
   },
   "outputs": [],
   "source": [
    "import warnings\n",
    "warnings.simplefilter(\"ignore\")"
   ]
  },
  {
   "cell_type": "code",
   "execution_count": 10,
   "metadata": {
    "executionInfo": {
     "elapsed": 1389,
     "status": "ok",
     "timestamp": 1698183922295,
     "user": {
      "displayName": "jk hancock",
      "userId": "01763343052046863664"
     },
     "user_tz": 240
    },
    "id": "Dlo9inV5ZeeG"
   },
   "outputs": [],
   "source": [
    "import pathlib\n",
    "temp = pathlib.PosixPath\n",
    "pathlib.PosixPath = pathlib.WindowsPath\n",
    "learn_inf = load_learner('export.pkl')"
   ]
  },
  {
   "cell_type": "code",
   "execution_count": 11,
   "metadata": {
    "colab": {
     "base_uri": "https://localhost:8080/",
     "height": 49,
     "referenced_widgets": [
      "88cd6513fe0c4ddaa41a5b9d33a6fd54",
      "8094cd1975744a28b6cf168a23d4ad22",
      "2bcad1e77b0c499caae33298234d7624"
     ]
    },
    "executionInfo": {
     "elapsed": 124,
     "status": "ok",
     "timestamp": 1698183926610,
     "user": {
      "displayName": "jk hancock",
      "userId": "01763343052046863664"
     },
     "user_tz": 240
    },
    "id": "m1wCJey5W-wV",
    "outputId": "66af0bd0-1100-4c3e-ee71-e9684365cacb"
   },
   "outputs": [
    {
     "data": {
      "application/vnd.jupyter.widget-view+json": {
       "model_id": "fab12590e77a4ec88ab4422d09598759",
       "version_major": 2,
       "version_minor": 0
      },
      "text/plain": [
       "FileUpload(value={}, description='Upload')"
      ]
     },
     "metadata": {},
     "output_type": "display_data"
    }
   ],
   "source": [
    "import IPython\n",
    "btn_upload = widgets.FileUpload()\n",
    "btn_upload"
   ]
  },
  {
   "cell_type": "code",
   "execution_count": 12,
   "metadata": {
    "colab": {
     "base_uri": "https://localhost:8080/",
     "height": 35
    },
    "executionInfo": {
     "elapsed": 117,
     "status": "ok",
     "timestamp": 1698183940237,
     "user": {
      "displayName": "jk hancock",
      "userId": "01763343052046863664"
     },
     "user_tz": 240
    },
    "id": "RiwSrGfoa4mr",
    "outputId": "4216d0d7-78b9-4b75-a6ae-8529756f28cc"
   },
   "outputs": [
    {
     "data": {
      "text/plain": [
       "'images/grizzly.jpg'"
      ]
     },
     "execution_count": 12,
     "metadata": {},
     "output_type": "execute_result"
    }
   ],
   "source": [
    "btn_upload = SimpleNamespace(data = ['images/grizzly.jpg'])\n",
    "btn_upload.data[-1]"
   ]
  },
  {
   "cell_type": "code",
   "execution_count": 14,
   "metadata": {
    "executionInfo": {
     "elapsed": 586,
     "status": "ok",
     "timestamp": 1698183952321,
     "user": {
      "displayName": "jk hancock",
      "userId": "01763343052046863664"
     },
     "user_tz": 240
    },
    "id": "s7fptPiTYy89"
   },
   "outputs": [],
   "source": [
    "img = PILImage.create(btn_upload.data[-1])\n"
   ]
  },
  {
   "cell_type": "code",
   "execution_count": 15,
   "metadata": {
    "colab": {
     "base_uri": "https://localhost:8080/",
     "height": 105,
     "referenced_widgets": [
      "6a87cb1ea66149fdb27839eae09289ca",
      "5551a47009554cd89492b8dcaed2bf04"
     ]
    },
    "executionInfo": {
     "elapsed": 169,
     "status": "ok",
     "timestamp": 1698183956248,
     "user": {
      "displayName": "jk hancock",
      "userId": "01763343052046863664"
     },
     "user_tz": 240
    },
    "id": "lRbYhvVmY9ys",
    "outputId": "19857f4b-55e7-4ce5-c510-7788176e1d4f"
   },
   "outputs": [
    {
     "data": {
      "application/vnd.jupyter.widget-view+json": {
       "model_id": "8caab7c339bb415f82187c19d3aafc85",
       "version_major": 2,
       "version_minor": 0
      },
      "text/plain": [
       "Output()"
      ]
     },
     "metadata": {},
     "output_type": "display_data"
    }
   ],
   "source": [
    "out_pl = widgets.Output()\n",
    "out_pl.clear_output()\n",
    "with out_pl:display(img.to_thumb(128,128))\n",
    "out_pl"
   ]
  },
  {
   "cell_type": "code",
   "execution_count": 16,
   "metadata": {
    "colab": {
     "base_uri": "https://localhost:8080/",
     "height": 17
    },
    "executionInfo": {
     "elapsed": 683,
     "status": "ok",
     "timestamp": 1698183959937,
     "user": {
      "displayName": "jk hancock",
      "userId": "01763343052046863664"
     },
     "user_tz": 240
    },
    "id": "nhRRPD_JZXCk",
    "outputId": "0399dbb6-f512-4cd9-f05c-f7176263e217"
   },
   "outputs": [
    {
     "data": {
      "text/html": [
       "\n",
       "<style>\n",
       "    /* Turns off some styling */\n",
       "    progress {\n",
       "        /* gets rid of default border in Firefox and Opera. */\n",
       "        border: none;\n",
       "        /* Needs to be in here for Safari polyfill so background images work as expected. */\n",
       "        background-size: auto;\n",
       "    }\n",
       "    progress:not([value]), progress:not([value])::-webkit-progress-bar {\n",
       "        background: repeating-linear-gradient(45deg, #7e7e7e, #7e7e7e 10px, #5c5c5c 10px, #5c5c5c 20px);\n",
       "    }\n",
       "    .progress-bar-interrupted, .progress-bar-interrupted::-webkit-progress-bar {\n",
       "        background: #F44336;\n",
       "    }\n",
       "</style>\n"
      ],
      "text/plain": [
       "<IPython.core.display.HTML object>"
      ]
     },
     "metadata": {},
     "output_type": "display_data"
    },
    {
     "data": {
      "text/html": [],
      "text/plain": [
       "<IPython.core.display.HTML object>"
      ]
     },
     "metadata": {},
     "output_type": "display_data"
    }
   ],
   "source": [
    "pred,pred_idx,probs = learn_inf.predict(img)\n"
   ]
  },
  {
   "cell_type": "code",
   "execution_count": 17,
   "metadata": {
    "colab": {
     "base_uri": "https://localhost:8080/",
     "height": 49,
     "referenced_widgets": [
      "830aa8cf62094b549758a5723665163e",
      "7924fd76706346aeb9160a906bdefdd3",
      "a3e32fc49d994129be610599ccad5002"
     ]
    },
    "executionInfo": {
     "elapsed": 157,
     "status": "ok",
     "timestamp": 1698183962851,
     "user": {
      "displayName": "jk hancock",
      "userId": "01763343052046863664"
     },
     "user_tz": 240
    },
    "id": "3DqlyIPsZqaU",
    "outputId": "b9290afe-cfb6-4cc3-9b05-61f4f04c0d42"
   },
   "outputs": [
    {
     "data": {
      "application/vnd.jupyter.widget-view+json": {
       "model_id": "0cd33268f67f4335815469941ce9a797",
       "version_major": 2,
       "version_minor": 0
      },
      "text/plain": [
       "Label(value='Prediction: grizzly; Probability: 1.0000')"
      ]
     },
     "metadata": {},
     "output_type": "display_data"
    }
   ],
   "source": [
    "lbl_pred = widgets.Label()\n",
    "lbl_pred.value = f'Prediction: {pred}; Probability: {probs[pred_idx]:.04f}'\n",
    "lbl_pred"
   ]
  },
  {
   "cell_type": "code",
   "execution_count": 18,
   "metadata": {
    "colab": {
     "base_uri": "https://localhost:8080/",
     "height": 49,
     "referenced_widgets": [
      "0b202a36d81d40f2827850600bda08c5",
      "c4efef29894c4963ad68c553b0aa7105",
      "e761bd6b81cb4a5ca30c8ef6147ca823"
     ]
    },
    "executionInfo": {
     "elapsed": 131,
     "status": "ok",
     "timestamp": 1698183966560,
     "user": {
      "displayName": "jk hancock",
      "userId": "01763343052046863664"
     },
     "user_tz": 240
    },
    "id": "cQejct1zePth",
    "outputId": "715a8486-6b39-440f-eb1b-a197a9277268"
   },
   "outputs": [
    {
     "data": {
      "application/vnd.jupyter.widget-view+json": {
       "model_id": "0539551105f641bfbc2f3aebc1d75ad3",
       "version_major": 2,
       "version_minor": 0
      },
      "text/plain": [
       "Button(description='Classify', style=ButtonStyle())"
      ]
     },
     "metadata": {},
     "output_type": "display_data"
    }
   ],
   "source": [
    "btn_run = widgets.Button(description='Classify')\n",
    "btn_run"
   ]
  },
  {
   "cell_type": "code",
   "execution_count": 19,
   "metadata": {
    "executionInfo": {
     "elapsed": 130,
     "status": "ok",
     "timestamp": 1698183969245,
     "user": {
      "displayName": "jk hancock",
      "userId": "01763343052046863664"
     },
     "user_tz": 240
    },
    "id": "J6dFen-meeTh"
   },
   "outputs": [],
   "source": [
    "def on_click_classify(change):\n",
    "  img = PILImage.create(btn_upload.data[-1])\n",
    "  out_pl.clear_output()\n",
    "  with out_pl:display(img.to_thumb(128,128))\n",
    "  pred,pred_idx,probs = learn_inf.predict(img)\n",
    "  lbl_pred.value = f'Prediction: {pred}; Probability: {probs[pred_idx]:.04f}'\n",
    "\n",
    "btn_run.on_click(on_click_classify)"
   ]
  },
  {
   "cell_type": "code",
   "execution_count": 20,
   "metadata": {
    "executionInfo": {
     "elapsed": 147,
     "status": "ok",
     "timestamp": 1698184186539,
     "user": {
      "displayName": "jk hancock",
      "userId": "01763343052046863664"
     },
     "user_tz": 240
    },
    "id": "_cufvjURh6en"
   },
   "outputs": [],
   "source": [
    "btn_upload = widgets.FileUpload()"
   ]
  },
  {
   "cell_type": "code",
   "execution_count": 21,
   "metadata": {
    "colab": {
     "base_uri": "https://localhost:8080/",
     "height": 233,
     "referenced_widgets": [
      "587cf047efe848d9a3272fe1ce57f1a6",
      "983ef596379348fbb69d1378a2edd776",
      "427b71cae43d4bb1adad8624ca147cec",
      "0b202a36d81d40f2827850600bda08c5",
      "6a87cb1ea66149fdb27839eae09289ca",
      "830aa8cf62094b549758a5723665163e",
      "67b11a95474a44dcaaf4ca1c5303e66e",
      "e96e3c2fd6904b579b622161eb603d5c",
      "4655fdcf9eeb48dea0efefd99692268a",
      "490afe4d9f0d4f038a3893fd3ca4d39a",
      "3f653115168c47458a028822d87c11bf",
      "c4efef29894c4963ad68c553b0aa7105",
      "e761bd6b81cb4a5ca30c8ef6147ca823",
      "7924fd76706346aeb9160a906bdefdd3",
      "a3e32fc49d994129be610599ccad5002",
      "5551a47009554cd89492b8dcaed2bf04"
     ]
    },
    "executionInfo": {
     "elapsed": 137,
     "status": "ok",
     "timestamp": 1698184250625,
     "user": {
      "displayName": "jk hancock",
      "userId": "01763343052046863664"
     },
     "user_tz": 240
    },
    "id": "gvp9I6CDiAFJ",
    "outputId": "03d4d31b-f9d5-49e0-f5b4-86a7c1876292"
   },
   "outputs": [
    {
     "data": {
      "application/vnd.jupyter.widget-view+json": {
       "model_id": "da3d5783344f4a93b49f14a47427132b",
       "version_major": 2,
       "version_minor": 0
      },
      "text/plain": [
       "VBox(children=(Label(value='Select your bear!'), FileUpload(value={}, description='Upload'), Button(descriptio…"
      ]
     },
     "metadata": {},
     "output_type": "display_data"
    }
   ],
   "source": [
    "VBox([widgets.Label('Select your bear!'),\n",
    "      btn_upload, btn_run, out_pl, lbl_pred])"
   ]
  },
  {
   "cell_type": "code",
   "execution_count": null,
   "metadata": {},
   "outputs": [],
   "source": []
  }
 ],
 "metadata": {
  "colab": {
   "authorship_tag": "ABX9TyPWKhgFQLxOeW1Vsxp4+HjE",
   "mount_file_id": "1XBGGppWO3_ks_AMZwKEw_D1wye-ZpLCL",
   "provenance": []
  },
  "kernelspec": {
   "display_name": "Python 3 (ipykernel)",
   "language": "python",
   "name": "python3"
  },
  "language_info": {
   "codemirror_mode": {
    "name": "ipython",
    "version": 3
   },
   "file_extension": ".py",
   "mimetype": "text/x-python",
   "name": "python",
   "nbconvert_exporter": "python",
   "pygments_lexer": "ipython3",
   "version": "3.10.9"
  },
  "widgets": {
   "application/vnd.jupyter.widget-state+json": {
    "0b202a36d81d40f2827850600bda08c5": {
     "model_module": "@jupyter-widgets/controls",
     "model_module_version": "1.5.0",
     "model_name": "ButtonModel",
     "state": {
      "_dom_classes": [],
      "_model_module": "@jupyter-widgets/controls",
      "_model_module_version": "1.5.0",
      "_model_name": "ButtonModel",
      "_view_count": null,
      "_view_module": "@jupyter-widgets/controls",
      "_view_module_version": "1.5.0",
      "_view_name": "ButtonView",
      "button_style": "",
      "description": "Classify",
      "disabled": false,
      "icon": "",
      "layout": "IPY_MODEL_c4efef29894c4963ad68c553b0aa7105",
      "style": "IPY_MODEL_e761bd6b81cb4a5ca30c8ef6147ca823",
      "tooltip": ""
     }
    },
    "2bcad1e77b0c499caae33298234d7624": {
     "model_module": "@jupyter-widgets/controls",
     "model_module_version": "1.5.0",
     "model_name": "ButtonStyleModel",
     "state": {
      "_model_module": "@jupyter-widgets/controls",
      "_model_module_version": "1.5.0",
      "_model_name": "ButtonStyleModel",
      "_view_count": null,
      "_view_module": "@jupyter-widgets/base",
      "_view_module_version": "1.2.0",
      "_view_name": "StyleView",
      "button_color": null,
      "font_weight": ""
     }
    },
    "3f653115168c47458a028822d87c11bf": {
     "model_module": "@jupyter-widgets/controls",
     "model_module_version": "1.5.0",
     "model_name": "ButtonStyleModel",
     "state": {
      "_model_module": "@jupyter-widgets/controls",
      "_model_module_version": "1.5.0",
      "_model_name": "ButtonStyleModel",
      "_view_count": null,
      "_view_module": "@jupyter-widgets/base",
      "_view_module_version": "1.2.0",
      "_view_name": "StyleView",
      "button_color": null,
      "font_weight": ""
     }
    },
    "427b71cae43d4bb1adad8624ca147cec": {
     "model_module": "@jupyter-widgets/controls",
     "model_module_version": "1.5.0",
     "model_name": "FileUploadModel",
     "state": {
      "_counter": 2,
      "_dom_classes": [],
      "_model_module": "@jupyter-widgets/controls",
      "_model_module_version": "1.5.0",
      "_model_name": "FileUploadModel",
      "_view_count": null,
      "_view_module": "@jupyter-widgets/controls",
      "_view_module_version": "1.5.0",
      "_view_name": "FileUploadView",
      "accept": "",
      "button_style": "",
      "data": [
       null
      ],
      "description": "Upload",
      "description_tooltip": null,
      "disabled": false,
      "error": "",
      "icon": "upload",
      "layout": "IPY_MODEL_490afe4d9f0d4f038a3893fd3ca4d39a",
      "metadata": [
       {
        "lastModified": 1698184298221,
        "name": "bear.jpg",
        "size": 58755,
        "type": "image/jpeg"
       }
      ],
      "multiple": false,
      "style": "IPY_MODEL_3f653115168c47458a028822d87c11bf"
     }
    },
    "4655fdcf9eeb48dea0efefd99692268a": {
     "model_module": "@jupyter-widgets/controls",
     "model_module_version": "1.5.0",
     "model_name": "DescriptionStyleModel",
     "state": {
      "_model_module": "@jupyter-widgets/controls",
      "_model_module_version": "1.5.0",
      "_model_name": "DescriptionStyleModel",
      "_view_count": null,
      "_view_module": "@jupyter-widgets/base",
      "_view_module_version": "1.2.0",
      "_view_name": "StyleView",
      "description_width": ""
     }
    },
    "490afe4d9f0d4f038a3893fd3ca4d39a": {
     "model_module": "@jupyter-widgets/base",
     "model_module_version": "1.2.0",
     "model_name": "LayoutModel",
     "state": {
      "_model_module": "@jupyter-widgets/base",
      "_model_module_version": "1.2.0",
      "_model_name": "LayoutModel",
      "_view_count": null,
      "_view_module": "@jupyter-widgets/base",
      "_view_module_version": "1.2.0",
      "_view_name": "LayoutView",
      "align_content": null,
      "align_items": null,
      "align_self": null,
      "border": null,
      "bottom": null,
      "display": null,
      "flex": null,
      "flex_flow": null,
      "grid_area": null,
      "grid_auto_columns": null,
      "grid_auto_flow": null,
      "grid_auto_rows": null,
      "grid_column": null,
      "grid_gap": null,
      "grid_row": null,
      "grid_template_areas": null,
      "grid_template_columns": null,
      "grid_template_rows": null,
      "height": null,
      "justify_content": null,
      "justify_items": null,
      "left": null,
      "margin": null,
      "max_height": null,
      "max_width": null,
      "min_height": null,
      "min_width": null,
      "object_fit": null,
      "object_position": null,
      "order": null,
      "overflow": null,
      "overflow_x": null,
      "overflow_y": null,
      "padding": null,
      "right": null,
      "top": null,
      "visibility": null,
      "width": null
     }
    },
    "5551a47009554cd89492b8dcaed2bf04": {
     "model_module": "@jupyter-widgets/base",
     "model_module_version": "1.2.0",
     "model_name": "LayoutModel",
     "state": {
      "_model_module": "@jupyter-widgets/base",
      "_model_module_version": "1.2.0",
      "_model_name": "LayoutModel",
      "_view_count": null,
      "_view_module": "@jupyter-widgets/base",
      "_view_module_version": "1.2.0",
      "_view_name": "LayoutView",
      "align_content": null,
      "align_items": null,
      "align_self": null,
      "border": null,
      "bottom": null,
      "display": null,
      "flex": null,
      "flex_flow": null,
      "grid_area": null,
      "grid_auto_columns": null,
      "grid_auto_flow": null,
      "grid_auto_rows": null,
      "grid_column": null,
      "grid_gap": null,
      "grid_row": null,
      "grid_template_areas": null,
      "grid_template_columns": null,
      "grid_template_rows": null,
      "height": null,
      "justify_content": null,
      "justify_items": null,
      "left": null,
      "margin": null,
      "max_height": null,
      "max_width": null,
      "min_height": null,
      "min_width": null,
      "object_fit": null,
      "object_position": null,
      "order": null,
      "overflow": null,
      "overflow_x": null,
      "overflow_y": null,
      "padding": null,
      "right": null,
      "top": null,
      "visibility": null,
      "width": null
     }
    },
    "587cf047efe848d9a3272fe1ce57f1a6": {
     "model_module": "@jupyter-widgets/controls",
     "model_module_version": "1.5.0",
     "model_name": "VBoxModel",
     "state": {
      "_dom_classes": [],
      "_model_module": "@jupyter-widgets/controls",
      "_model_module_version": "1.5.0",
      "_model_name": "VBoxModel",
      "_view_count": null,
      "_view_module": "@jupyter-widgets/controls",
      "_view_module_version": "1.5.0",
      "_view_name": "VBoxView",
      "box_style": "",
      "children": [
       "IPY_MODEL_983ef596379348fbb69d1378a2edd776",
       "IPY_MODEL_427b71cae43d4bb1adad8624ca147cec",
       "IPY_MODEL_0b202a36d81d40f2827850600bda08c5",
       "IPY_MODEL_6a87cb1ea66149fdb27839eae09289ca",
       "IPY_MODEL_830aa8cf62094b549758a5723665163e"
      ],
      "layout": "IPY_MODEL_67b11a95474a44dcaaf4ca1c5303e66e"
     }
    },
    "67b11a95474a44dcaaf4ca1c5303e66e": {
     "model_module": "@jupyter-widgets/base",
     "model_module_version": "1.2.0",
     "model_name": "LayoutModel",
     "state": {
      "_model_module": "@jupyter-widgets/base",
      "_model_module_version": "1.2.0",
      "_model_name": "LayoutModel",
      "_view_count": null,
      "_view_module": "@jupyter-widgets/base",
      "_view_module_version": "1.2.0",
      "_view_name": "LayoutView",
      "align_content": null,
      "align_items": null,
      "align_self": null,
      "border": null,
      "bottom": null,
      "display": null,
      "flex": null,
      "flex_flow": null,
      "grid_area": null,
      "grid_auto_columns": null,
      "grid_auto_flow": null,
      "grid_auto_rows": null,
      "grid_column": null,
      "grid_gap": null,
      "grid_row": null,
      "grid_template_areas": null,
      "grid_template_columns": null,
      "grid_template_rows": null,
      "height": null,
      "justify_content": null,
      "justify_items": null,
      "left": null,
      "margin": null,
      "max_height": null,
      "max_width": null,
      "min_height": null,
      "min_width": null,
      "object_fit": null,
      "object_position": null,
      "order": null,
      "overflow": null,
      "overflow_x": null,
      "overflow_y": null,
      "padding": null,
      "right": null,
      "top": null,
      "visibility": null,
      "width": null
     }
    },
    "6a87cb1ea66149fdb27839eae09289ca": {
     "model_module": "@jupyter-widgets/output",
     "model_module_version": "1.0.0",
     "model_name": "OutputModel",
     "state": {
      "_dom_classes": [],
      "_model_module": "@jupyter-widgets/output",
      "_model_module_version": "1.0.0",
      "_model_name": "OutputModel",
      "_view_count": null,
      "_view_module": "@jupyter-widgets/output",
      "_view_module_version": "1.0.0",
      "_view_name": "OutputView",
      "layout": "IPY_MODEL_5551a47009554cd89492b8dcaed2bf04",
      "msg_id": "",
      "outputs": [
       {
        "data": {
         "image/png": "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\n",
         "text/plain": "<PIL.Image.Image image mode=RGB size=128x88>"
        },
        "metadata": {},
        "output_type": "display_data"
       }
      ]
     }
    },
    "7924fd76706346aeb9160a906bdefdd3": {
     "model_module": "@jupyter-widgets/base",
     "model_module_version": "1.2.0",
     "model_name": "LayoutModel",
     "state": {
      "_model_module": "@jupyter-widgets/base",
      "_model_module_version": "1.2.0",
      "_model_name": "LayoutModel",
      "_view_count": null,
      "_view_module": "@jupyter-widgets/base",
      "_view_module_version": "1.2.0",
      "_view_name": "LayoutView",
      "align_content": null,
      "align_items": null,
      "align_self": null,
      "border": null,
      "bottom": null,
      "display": null,
      "flex": null,
      "flex_flow": null,
      "grid_area": null,
      "grid_auto_columns": null,
      "grid_auto_flow": null,
      "grid_auto_rows": null,
      "grid_column": null,
      "grid_gap": null,
      "grid_row": null,
      "grid_template_areas": null,
      "grid_template_columns": null,
      "grid_template_rows": null,
      "height": null,
      "justify_content": null,
      "justify_items": null,
      "left": null,
      "margin": null,
      "max_height": null,
      "max_width": null,
      "min_height": null,
      "min_width": null,
      "object_fit": null,
      "object_position": null,
      "order": null,
      "overflow": null,
      "overflow_x": null,
      "overflow_y": null,
      "padding": null,
      "right": null,
      "top": null,
      "visibility": null,
      "width": null
     }
    },
    "8094cd1975744a28b6cf168a23d4ad22": {
     "model_module": "@jupyter-widgets/base",
     "model_module_version": "1.2.0",
     "model_name": "LayoutModel",
     "state": {
      "_model_module": "@jupyter-widgets/base",
      "_model_module_version": "1.2.0",
      "_model_name": "LayoutModel",
      "_view_count": null,
      "_view_module": "@jupyter-widgets/base",
      "_view_module_version": "1.2.0",
      "_view_name": "LayoutView",
      "align_content": null,
      "align_items": null,
      "align_self": null,
      "border": null,
      "bottom": null,
      "display": null,
      "flex": null,
      "flex_flow": null,
      "grid_area": null,
      "grid_auto_columns": null,
      "grid_auto_flow": null,
      "grid_auto_rows": null,
      "grid_column": null,
      "grid_gap": null,
      "grid_row": null,
      "grid_template_areas": null,
      "grid_template_columns": null,
      "grid_template_rows": null,
      "height": null,
      "justify_content": null,
      "justify_items": null,
      "left": null,
      "margin": null,
      "max_height": null,
      "max_width": null,
      "min_height": null,
      "min_width": null,
      "object_fit": null,
      "object_position": null,
      "order": null,
      "overflow": null,
      "overflow_x": null,
      "overflow_y": null,
      "padding": null,
      "right": null,
      "top": null,
      "visibility": null,
      "width": null
     }
    },
    "830aa8cf62094b549758a5723665163e": {
     "model_module": "@jupyter-widgets/controls",
     "model_module_version": "1.5.0",
     "model_name": "LabelModel",
     "state": {
      "_dom_classes": [],
      "_model_module": "@jupyter-widgets/controls",
      "_model_module_version": "1.5.0",
      "_model_name": "LabelModel",
      "_view_count": null,
      "_view_module": "@jupyter-widgets/controls",
      "_view_module_version": "1.5.0",
      "_view_name": "LabelView",
      "description": "",
      "description_tooltip": null,
      "layout": "IPY_MODEL_7924fd76706346aeb9160a906bdefdd3",
      "placeholder": "​",
      "style": "IPY_MODEL_a3e32fc49d994129be610599ccad5002",
      "value": "Prediction: grizzly; Probability: 1.0000"
     }
    },
    "88cd6513fe0c4ddaa41a5b9d33a6fd54": {
     "model_module": "@jupyter-widgets/controls",
     "model_module_version": "1.5.0",
     "model_name": "FileUploadModel",
     "state": {
      "_counter": 0,
      "_dom_classes": [],
      "_model_module": "@jupyter-widgets/controls",
      "_model_module_version": "1.5.0",
      "_model_name": "FileUploadModel",
      "_view_count": null,
      "_view_module": "@jupyter-widgets/controls",
      "_view_module_version": "1.5.0",
      "_view_name": "FileUploadView",
      "accept": "",
      "button_style": "",
      "data": [],
      "description": "Upload",
      "description_tooltip": null,
      "disabled": false,
      "error": "",
      "icon": "upload",
      "layout": "IPY_MODEL_8094cd1975744a28b6cf168a23d4ad22",
      "metadata": [],
      "multiple": false,
      "style": "IPY_MODEL_2bcad1e77b0c499caae33298234d7624"
     }
    },
    "983ef596379348fbb69d1378a2edd776": {
     "model_module": "@jupyter-widgets/controls",
     "model_module_version": "1.5.0",
     "model_name": "LabelModel",
     "state": {
      "_dom_classes": [],
      "_model_module": "@jupyter-widgets/controls",
      "_model_module_version": "1.5.0",
      "_model_name": "LabelModel",
      "_view_count": null,
      "_view_module": "@jupyter-widgets/controls",
      "_view_module_version": "1.5.0",
      "_view_name": "LabelView",
      "description": "",
      "description_tooltip": null,
      "layout": "IPY_MODEL_e96e3c2fd6904b579b622161eb603d5c",
      "placeholder": "​",
      "style": "IPY_MODEL_4655fdcf9eeb48dea0efefd99692268a",
      "value": "Select your bear!"
     }
    },
    "a3e32fc49d994129be610599ccad5002": {
     "model_module": "@jupyter-widgets/controls",
     "model_module_version": "1.5.0",
     "model_name": "DescriptionStyleModel",
     "state": {
      "_model_module": "@jupyter-widgets/controls",
      "_model_module_version": "1.5.0",
      "_model_name": "DescriptionStyleModel",
      "_view_count": null,
      "_view_module": "@jupyter-widgets/base",
      "_view_module_version": "1.2.0",
      "_view_name": "StyleView",
      "description_width": ""
     }
    },
    "c4efef29894c4963ad68c553b0aa7105": {
     "model_module": "@jupyter-widgets/base",
     "model_module_version": "1.2.0",
     "model_name": "LayoutModel",
     "state": {
      "_model_module": "@jupyter-widgets/base",
      "_model_module_version": "1.2.0",
      "_model_name": "LayoutModel",
      "_view_count": null,
      "_view_module": "@jupyter-widgets/base",
      "_view_module_version": "1.2.0",
      "_view_name": "LayoutView",
      "align_content": null,
      "align_items": null,
      "align_self": null,
      "border": null,
      "bottom": null,
      "display": null,
      "flex": null,
      "flex_flow": null,
      "grid_area": null,
      "grid_auto_columns": null,
      "grid_auto_flow": null,
      "grid_auto_rows": null,
      "grid_column": null,
      "grid_gap": null,
      "grid_row": null,
      "grid_template_areas": null,
      "grid_template_columns": null,
      "grid_template_rows": null,
      "height": null,
      "justify_content": null,
      "justify_items": null,
      "left": null,
      "margin": null,
      "max_height": null,
      "max_width": null,
      "min_height": null,
      "min_width": null,
      "object_fit": null,
      "object_position": null,
      "order": null,
      "overflow": null,
      "overflow_x": null,
      "overflow_y": null,
      "padding": null,
      "right": null,
      "top": null,
      "visibility": null,
      "width": null
     }
    },
    "e761bd6b81cb4a5ca30c8ef6147ca823": {
     "model_module": "@jupyter-widgets/controls",
     "model_module_version": "1.5.0",
     "model_name": "ButtonStyleModel",
     "state": {
      "_model_module": "@jupyter-widgets/controls",
      "_model_module_version": "1.5.0",
      "_model_name": "ButtonStyleModel",
      "_view_count": null,
      "_view_module": "@jupyter-widgets/base",
      "_view_module_version": "1.2.0",
      "_view_name": "StyleView",
      "button_color": null,
      "font_weight": ""
     }
    },
    "e96e3c2fd6904b579b622161eb603d5c": {
     "model_module": "@jupyter-widgets/base",
     "model_module_version": "1.2.0",
     "model_name": "LayoutModel",
     "state": {
      "_model_module": "@jupyter-widgets/base",
      "_model_module_version": "1.2.0",
      "_model_name": "LayoutModel",
      "_view_count": null,
      "_view_module": "@jupyter-widgets/base",
      "_view_module_version": "1.2.0",
      "_view_name": "LayoutView",
      "align_content": null,
      "align_items": null,
      "align_self": null,
      "border": null,
      "bottom": null,
      "display": null,
      "flex": null,
      "flex_flow": null,
      "grid_area": null,
      "grid_auto_columns": null,
      "grid_auto_flow": null,
      "grid_auto_rows": null,
      "grid_column": null,
      "grid_gap": null,
      "grid_row": null,
      "grid_template_areas": null,
      "grid_template_columns": null,
      "grid_template_rows": null,
      "height": null,
      "justify_content": null,
      "justify_items": null,
      "left": null,
      "margin": null,
      "max_height": null,
      "max_width": null,
      "min_height": null,
      "min_width": null,
      "object_fit": null,
      "object_position": null,
      "order": null,
      "overflow": null,
      "overflow_x": null,
      "overflow_y": null,
      "padding": null,
      "right": null,
      "top": null,
      "visibility": null,
      "width": null
     }
    }
   }
  }
 },
 "nbformat": 4,
 "nbformat_minor": 4
}
